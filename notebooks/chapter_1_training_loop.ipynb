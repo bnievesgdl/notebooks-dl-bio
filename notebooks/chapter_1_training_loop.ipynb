{
 "cells": [
  {
   "cell_type": "markdown",
   "id": "f848122c",
   "metadata": {},
   "source": [
    "# Environment Check\n",
    "\n",
    "Run this cell first to verify your environment is set up correctly:"
   ]
  },
  {
   "cell_type": "markdown",
   "id": "4vbdx7cyzat",
   "metadata": {},
   "source": [
    "# Chapter 1: Training Loop Fundamentals\n",
    "\n",
    "---\n",
    "\n",
    "**License**: Apache 2.0  \n",
    "**Original Work**: [Deep Learning for Biology](https://github.com/deep-learning-for-biology/dlfb) by Charles Ravarani and Natasha Latysheva  \n",
    "**This Notebook**: Additional Chapter 1 content by Brandon Nieves\n",
    "\n",
    "Based on the Deep Learning for Biology book and companion repository.\n",
    "\n",
    "---"
   ]
  },
  {
   "cell_type": "code",
   "execution_count": 2,
   "id": "a6aac7bf",
   "metadata": {},
   "outputs": [
    {
     "name": "stdout",
     "output_type": "stream",
     "text": [
      "============================================================\n",
      "ENVIRONMENT DIAGNOSTICS\n",
      "============================================================\n",
      "\n",
      "✓ Python Version: 3.13.7\n",
      "✓ Python Executable: /Users/brandonnieves/notebooks-dl-bio/.venv/bin/python\n",
      "✓ Using Virtual Environment: YES ✓\n",
      "  Virtual Env Path: /Users/brandonnieves/notebooks-dl-bio/.venv\n",
      "\n",
      "✓ IPython Kernel Version: 7.0.0\n",
      "\n",
      "============================================================\n",
      "INSTALLED PACKAGES\n",
      "============================================================\n",
      "✓ dlfb            unknown\n",
      "✓ numpy           2.3.3\n",
      "✓ pandas          2.3.3\n",
      "✓ matplotlib      3.10.7\n",
      "✓ seaborn         0.13.2\n",
      "✓ sklearn         1.7.2\n",
      "✓ jax             0.7.2\n",
      "✓ flax            0.12.0\n",
      "✓ optax           0.2.6\n",
      "✓ jupyter         unknown\n",
      "\n",
      "============================================================\n",
      "SYSTEM INFO\n",
      "============================================================\n",
      "✓ OS: Darwin 24.6.0\n",
      "✓ Machine: arm64\n",
      "✓ Working Directory: /Users/brandonnieves/notebooks-dl-bio/notebooks\n",
      "\n",
      "============================================================\n",
      "STATUS: Environment is ready!\n",
      "============================================================\n"
     ]
    }
   ],
   "source": [
    "import sys\n",
    "import platform\n",
    "from pathlib import Path\n",
    "\n",
    "print(\"=\" * 60)\n",
    "print(\"ENVIRONMENT DIAGNOSTICS\")\n",
    "print(\"=\" * 60)\n",
    "\n",
    "# 1. Python version and location\n",
    "print(f\"\\n✓ Python Version: {sys.version.split()[0]}\")\n",
    "print(f\"✓ Python Executable: {sys.executable}\")\n",
    "\n",
    "# 2. Check if using venv\n",
    "in_venv = sys.prefix != sys.base_prefix\n",
    "print(f\"✓ Using Virtual Environment: {'YES ✓' if in_venv else 'NO ✗'}\")\n",
    "if in_venv:\n",
    "    print(f\"  Virtual Env Path: {sys.prefix}\")\n",
    "\n",
    "# 3. Kernel information\n",
    "try:\n",
    "    import ipykernel\n",
    "    print(f\"\\n✓ IPython Kernel Version: {ipykernel.__version__}\")\n",
    "except ImportError:\n",
    "    print(\"\\n✗ IPython Kernel: Not found\")\n",
    "\n",
    "# 4. Check key packages\n",
    "print(\"\\n\" + \"=\" * 60)\n",
    "print(\"INSTALLED PACKAGES\")\n",
    "print(\"=\" * 60)\n",
    "\n",
    "packages_to_check = [\n",
    "    'dlfb',\n",
    "    'numpy',\n",
    "    'pandas', \n",
    "    'matplotlib',\n",
    "    'seaborn',\n",
    "    'sklearn',\n",
    "    'jax',\n",
    "    'flax',\n",
    "    'optax',\n",
    "    'jupyter',\n",
    "]\n",
    "\n",
    "for package in packages_to_check:\n",
    "    try:\n",
    "        mod = __import__(package)\n",
    "        version = getattr(mod, '__version__', 'unknown')\n",
    "        print(f\"✓ {package:15s} {version}\")\n",
    "    except ImportError:\n",
    "        print(f\"✗ {package:15s} NOT INSTALLED\")\n",
    "\n",
    "# 5. System info\n",
    "print(\"\\n\" + \"=\" * 60)\n",
    "print(\"SYSTEM INFO\")\n",
    "print(\"=\" * 60)\n",
    "print(f\"✓ OS: {platform.system()} {platform.release()}\")\n",
    "print(f\"✓ Machine: {platform.machine()}\")\n",
    "print(f\"✓ Working Directory: {Path.cwd()}\")\n",
    "\n",
    "print(\"\\n\" + \"=\" * 60)\n",
    "print(\"STATUS: Environment is ready!\" if in_venv else \"WARNING: Not using venv!\")\n",
    "print(\"=\" * 60)"
   ]
  },
  {
   "cell_type": "markdown",
   "id": "mejhhzsrgmn",
   "metadata": {},
   "source": [
    "---\n",
    "\n",
    "# Colab Setup (Skip if running locally)\n",
    "\n",
    "To run this notebook on Colab, follow these setup steps:"
   ]
  },
  {
   "cell_type": "markdown",
   "id": "9f51ecf9",
   "metadata": {},
   "source": [
    "1. **Clone the `dlfb` library** (Colab only)  \n",
    "   First, clone the repository that contains the `dlfb` library."
   ]
  },
  {
   "cell_type": "markdown",
   "id": "d3483b6e",
   "metadata": {},
   "source": [
    "2. **Install dependencies**  \n",
    "   Once the library is cloned, install the required dependencies."
   ]
  },
  {
   "cell_type": "code",
   "execution_count": null,
   "id": "af66809f",
   "metadata": {},
   "outputs": [],
   "source": [
    "%%bash\n",
    "curl -LsSf https://astral.sh/uv/install.sh | sh && \\\n",
    "export PATH=\"/root/.local/bin:${PATH}\" && \\\n",
    "uv pip compile ./requirements/{base,dlfb,proteins,gpu}.txt \\\n",
    "  --color never \\\n",
    "  --constraint ./requirements/constraints.txt | \\\n",
    "uv pip install -r - --system"
   ]
  },
  {
   "cell_type": "markdown",
   "id": "d6cace21",
   "metadata": {},
   "source": [
    "3. **Provision the datasets**  \n",
    "   You’ll then need to access and download the necessary datasets for this chapter."
   ]
  },
  {
   "cell_type": "code",
   "execution_count": null,
   "id": "376e7317",
   "metadata": {},
   "outputs": [],
   "source": [
    "# NOTE: exclude models with '--no-models' flag\n",
    "!dlfb-provision --chapter proteins"
   ]
  },
  {
   "cell_type": "markdown",
   "id": "af852f10",
   "metadata": {},
   "source": [
    "4. **Load the `dlfb` package**  \n",
    "   Finally, load the `dlfb` package.  \n",
    "   - ⚠️ Note: Loading can sometimes be finicky. If you encounter issues, simply **restart the runtime**. All previously downloaded data and installed packages will persist, so you can re-run the load step without repeating everything."
   ]
  },
  {
   "cell_type": "code",
   "execution_count": null,
   "id": "799bcafd",
   "metadata": {},
   "outputs": [],
   "source": [
    "# Toggle JAX_DISABLE_JIT to True for easier debugging\n",
    "%env JAX_DISABLE_JIT=False\n",
    "\n",
    "try:\n",
    "  import dlfb\n",
    "except ImportError as exc:\n",
    "  # NOTE: Packages installed in editable mode are not immediately\n",
    "  #       recognized by Colab (https://stackoverflow.com/a/63312333).\n",
    "  import site\n",
    "  site.main()\n",
    "  import dlfb\n",
    "\n",
    "from dlfb.utils.display import display"
   ]
  },
  {
   "cell_type": "markdown",
   "id": "614351cb",
   "metadata": {},
   "source": [
    "# Anatomy of a Training Loop\n",
    "- Defining a dataset\n",
    "- Defining a model\n",
    "- Creating a training state\n",
    "- Defining a loss function\n",
    "- Defining the training set\n",
    "- Handling auxiliary outputs in the loss function\n",
    "- Defining the training loop\n",
    "    - define a model, compute a loss, update parameters, and repeat"
   ]
  },
  {
   "cell_type": "markdown",
   "id": "6b097396",
   "metadata": {},
   "source": [
    "## Defining a dataset"
   ]
  },
  {
   "cell_type": "code",
   "execution_count": 3,
   "id": "a0ed5c6b",
   "metadata": {},
   "outputs": [
    {
     "data": {
      "image/png": "[encoded data removed]",
      "text/plain": [
       "<Figure size 640x480 with 1 Axes>"
      ]
     },
     "metadata": {},
     "output_type": "display_data"
    }
   ],
   "source": [
    "# From Deep Learning for Biology book\n",
    "import jax\n",
    "import jax.numpy as jnp\n",
    "import matplotlib.pyplot as plt\n",
    "from flax import linen as nn\n",
    "\n",
    "# In JAX, randomness is handled explicitly by passing a random key.\n",
    "# We create a key here to seed the random number generator.\n",
    "\n",
    "rng = jax.random.PRNGKey(42)\n",
    "\n",
    "# Generate toy data: x values uniformly sampled between 0 and 1\n",
    "rng, rng_data, rng_noise = jax.random.split(rng, 3)\n",
    "x_data = jax.random.uniform(rng_data, shape=(100, 1))\n",
    "\n",
    "# Add Gaussian noise\n",
    "noise = 0.1 * jax.random.normal(rng_noise, shape=(100, 1))\n",
    "\n",
    "# Define target: y = 2x + 1 + noise\n",
    "y_data = 2 * x_data + 1 + noise\n",
    "\n",
    "# Visualize the noise linear relationship\n",
    "plt.scatter(x_data, y_data)\n",
    "plt.xlabel(\"x\")\n",
    "plt.ylabel(\"y\")\n",
    "plt.title(\"Toy Dataset: y = 2x + 1 + noise\")\n",
    "plt.show()"
   ]
  },
  {
   "cell_type": "markdown",
   "id": "2656b455",
   "metadata": {},
   "source": [
    "## Defining a model"
   ]
  },
  {
   "cell_type": "code",
   "execution_count": 4,
   "id": "3e376fc3",
   "metadata": {},
   "outputs": [],
   "source": [
    "class LinearModel(nn.Module):\n",
    "    @nn.compact\n",
    "    def __call__(self, x):\n",
    "        # Applies a single dense (fully connected) layer with 1 output neuron\n",
    "        # That is, it computes y = xW + b, where the output has dimension 1\n",
    "        return nn.Dense(features=1)(x)"
   ]
  },
  {
   "cell_type": "code",
   "execution_count": 5,
   "id": "d7d6cab4",
   "metadata": {},
   "outputs": [
    {
     "name": "stdout",
     "output_type": "stream",
     "text": [
      "{'params': {'Dense_0': {'kernel': Array([[-0.5220277]], dtype=float32), 'bias':\n",
      "Array([0.], dtype=float32)}}}\n"
     ]
    }
   ],
   "source": [
    "from dlfb.utils.display import print_short_dict\n",
    "\n",
    "model = LinearModel()\n",
    "rng = jax.random.PRNGKey(42)\n",
    "variables = model.init(rng, jnp.ones((1, 1)))\n",
    "print_short_dict(variables)"
   ]
  },
  {
   "cell_type": "markdown",
   "id": "8de1a920",
   "metadata": {},
   "source": [
    "## Creating a training state"
   ]
  },
  {
   "cell_type": "code",
   "execution_count": 6,
   "id": "803d15c4",
   "metadata": {},
   "outputs": [],
   "source": [
    "import optax\n",
    "from flax.training import train_state\n",
    "\n",
    "# Define an optimizer - here we use Adam with a learning rate of 1.0.\n",
    "# (Note: in most real settings you'd use a smaller learning rate like 1e-3)\n",
    "tx = optax.adam(1.0)\n",
    "\n",
    "# Create the training state\n",
    "state = train_state.TrainState.create(\n",
    "    apply_fn=model.apply, # The model's forward pass function\n",
    "    params=variables[\"params\"], # The initialized model parameters\n",
    "    tx=tx, # The optimizer\n",
    ")\n",
    "    "
   ]
  },
  {
   "cell_type": "markdown",
   "id": "b29c92fa",
   "metadata": {},
   "source": [
    "## Defining a loss function"
   ]
  },
  {
   "cell_type": "code",
   "execution_count": 7,
   "id": "805252d1",
   "metadata": {},
   "outputs": [],
   "source": [
    "def calculate_loss(params, x, y):\n",
    "    # Run a forward pas of the model to get predictions\n",
    "    predictions = model.apply({\"params\": params}, x)\n",
    "\n",
    "    # Compute MSE loss\n",
    "    return jnp.mean((predictions - y) ** 2)"
   ]
  },
  {
   "cell_type": "code",
   "execution_count": 8,
   "id": "0326b3b4",
   "metadata": {},
   "outputs": [
    {
     "name": "stdout",
     "output_type": "stream",
     "text": [
      "Loss: 5.2768\n"
     ]
    }
   ],
   "source": [
    "loss = calculate_loss(variables[\"params\"], x_data, y_data)\n",
    "print(f\"Loss: {loss:.4f}\")"
   ]
  },
  {
   "cell_type": "code",
   "execution_count": null,
   "id": "1aa64c22",
   "metadata": {},
   "outputs": [],
   "source": []
  }
 ],
 "metadata": {
  "jupytext": {
   "cell_metadata_filter": "all,-execution",
   "formats": "ipynb,md:myst",
   "main_language": "python",
   "notebook_metadata_filter": "kernelspec,jupytext,language_info",
   "text_representation": {
    "extension": ".md",
    "format_name": "myst",
    "format_version": 0.13,
    "jupytext_version": "1.16.0"
   }
  },
  "kernelspec": {
   "display_name": ".venv",
   "language": "python",
   "name": "python3"
  },
  "language_info": {
   "codemirror_mode": {
    "name": "ipython",
    "version": 3
   },
   "file_extension": ".py",
   "mimetype": "text/x-python",
   "name": "python",
   "nbconvert_exporter": "python",
   "pygments_lexer": "ipython3",
   "version": "3.13.7"
  }
 },
 "nbformat": 4,
 "nbformat_minor": 5
}
